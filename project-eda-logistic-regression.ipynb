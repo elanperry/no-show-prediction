{
 "cells": [
  {
   "cell_type": "code",
   "execution_count": 7,
   "metadata": {
    "_uuid": "c3677e2d814a68223b1ca55cf84ea9327556a5a4"
   },
   "outputs": [],
   "source": [
    "import pandas as pd\n",
    "import numpy as np\n",
    "from sklearn import preprocessing\n",
    "import matplotlib.pyplot as plt \n",
    "plt.rc(\"font\", size=14)\n",
    "from sklearn.linear_model import LogisticRegression\n",
    "from sklearn.model_selection import train_test_split\n",
    "import seaborn as sns\n",
    "sns.set(style=\"white\")\n",
    "sns.set(style=\"whitegrid\", color_codes=True)"
   ]
  },
  {
   "cell_type": "markdown",
   "metadata": {
    "_uuid": "ab8f427e8680e3cd2f15deaac041c2c1d5f676df"
   },
   "source": [
    "Adapted from https://towardsdatascience.com/building-a-logistic-regression-in-python-step-by-step-becd4d56c9c8\n",
    "## The Data\n",
    "\n",
    "The data consists of participant characteristics such as demographics, addiction severity etc... The classification goal is to predict if a participant will show up (1/0) for their scheduled appointment. (target variable).\n",
    "\n",
    "This dataset provides the participant information. It includes 3108 appointments (records) and 35 fields (features)."
   ]
  },
  {
   "cell_type": "code",
   "execution_count": 23,
   "metadata": {
    "_uuid": "4e3d12ab29060ed8584355da8ce42fa3e0a14b76"
   },
   "outputs": [
    {
     "name": "stdout",
     "output_type": "stream",
     "text": [
      "(3108, 36)\n",
      "['sex', 'age', 'years_edu', 'employment', 'monthly_income', 'marital_status', 'ethnicity', 'race', 'bmi', 'vetstatus', 'flyer', 'radio_ad', 'website', 'referral', 'previously_participated', 'craigslist', 'email_bulletin', 'other', 'facebook_ad', 'facebook_post', 'newspaper', 'bus_ad', 'billboard_ad', 'community_event', 'web search', 'smoker_status', 'cigs_per_day', 'alc_dep', 'thc_dep', 'stim_dep', 'opiate_dep', 'nic_dep', 'coke_dep', 'other_dep', 'audit_score', 'target']\n"
     ]
    }
   ],
   "source": [
    "filename = r\"C:/Users/Elan/No Show Prediction Project/input/Data_Combined_Cleaned_10.11.18_no_dummies.csv\"\n",
    "data = pd.read_csv(filename, index_col = 0)\n",
    "print(data.shape)\n",
    "print(list(data.columns))"
   ]
  },
  {
   "cell_type": "code",
   "execution_count": 24,
   "metadata": {
    "_uuid": "02b74369e589c07fa85ab517403fb6124ad8b515"
   },
   "outputs": [
    {
     "data": {
      "text/html": [
       "<div>\n",
       "<style scoped>\n",
       "    .dataframe tbody tr th:only-of-type {\n",
       "        vertical-align: middle;\n",
       "    }\n",
       "\n",
       "    .dataframe tbody tr th {\n",
       "        vertical-align: top;\n",
       "    }\n",
       "\n",
       "    .dataframe thead th {\n",
       "        text-align: right;\n",
       "    }\n",
       "</style>\n",
       "<table border=\"1\" class=\"dataframe\">\n",
       "  <thead>\n",
       "    <tr style=\"text-align: right;\">\n",
       "      <th></th>\n",
       "      <th>age</th>\n",
       "      <th>years_edu</th>\n",
       "      <th>monthly_income</th>\n",
       "      <th>bmi</th>\n",
       "      <th>vetstatus</th>\n",
       "      <th>flyer</th>\n",
       "      <th>radio_ad</th>\n",
       "      <th>website</th>\n",
       "      <th>referral</th>\n",
       "      <th>previously_participated</th>\n",
       "      <th>...</th>\n",
       "      <th>cigs_per_day</th>\n",
       "      <th>alc_dep</th>\n",
       "      <th>thc_dep</th>\n",
       "      <th>stim_dep</th>\n",
       "      <th>opiate_dep</th>\n",
       "      <th>nic_dep</th>\n",
       "      <th>coke_dep</th>\n",
       "      <th>other_dep</th>\n",
       "      <th>audit_score</th>\n",
       "      <th>target</th>\n",
       "    </tr>\n",
       "  </thead>\n",
       "  <tbody>\n",
       "    <tr>\n",
       "      <th>count</th>\n",
       "      <td>3108.000000</td>\n",
       "      <td>3108.000000</td>\n",
       "      <td>3108.000000</td>\n",
       "      <td>3108.000000</td>\n",
       "      <td>3108.000000</td>\n",
       "      <td>3108.000000</td>\n",
       "      <td>3108.000000</td>\n",
       "      <td>3108.000000</td>\n",
       "      <td>3108.000000</td>\n",
       "      <td>3108.000000</td>\n",
       "      <td>...</td>\n",
       "      <td>3108.000000</td>\n",
       "      <td>3108.000000</td>\n",
       "      <td>3108.000000</td>\n",
       "      <td>3108.000000</td>\n",
       "      <td>3108.000000</td>\n",
       "      <td>3108.000000</td>\n",
       "      <td>3108.000000</td>\n",
       "      <td>3108.000000</td>\n",
       "      <td>3108.000000</td>\n",
       "      <td>3108.000000</td>\n",
       "    </tr>\n",
       "    <tr>\n",
       "      <th>mean</th>\n",
       "      <td>38.476892</td>\n",
       "      <td>12.916136</td>\n",
       "      <td>1109.284373</td>\n",
       "      <td>29.519952</td>\n",
       "      <td>0.075611</td>\n",
       "      <td>0.213320</td>\n",
       "      <td>0.005148</td>\n",
       "      <td>0.041506</td>\n",
       "      <td>0.355534</td>\n",
       "      <td>0.127091</td>\n",
       "      <td>...</td>\n",
       "      <td>15.008044</td>\n",
       "      <td>0.353282</td>\n",
       "      <td>0.171493</td>\n",
       "      <td>0.035714</td>\n",
       "      <td>0.051802</td>\n",
       "      <td>0.630309</td>\n",
       "      <td>0.168275</td>\n",
       "      <td>0.012227</td>\n",
       "      <td>9.573681</td>\n",
       "      <td>0.650257</td>\n",
       "    </tr>\n",
       "    <tr>\n",
       "      <th>std</th>\n",
       "      <td>12.049624</td>\n",
       "      <td>2.141975</td>\n",
       "      <td>1280.730545</td>\n",
       "      <td>6.823645</td>\n",
       "      <td>0.264418</td>\n",
       "      <td>0.409718</td>\n",
       "      <td>0.071576</td>\n",
       "      <td>0.199489</td>\n",
       "      <td>0.478752</td>\n",
       "      <td>0.333129</td>\n",
       "      <td>...</td>\n",
       "      <td>11.630105</td>\n",
       "      <td>0.478066</td>\n",
       "      <td>0.377000</td>\n",
       "      <td>0.185607</td>\n",
       "      <td>0.221662</td>\n",
       "      <td>0.482799</td>\n",
       "      <td>0.374171</td>\n",
       "      <td>0.109913</td>\n",
       "      <td>10.830468</td>\n",
       "      <td>0.476965</td>\n",
       "    </tr>\n",
       "    <tr>\n",
       "      <th>min</th>\n",
       "      <td>18.000000</td>\n",
       "      <td>0.000000</td>\n",
       "      <td>0.000000</td>\n",
       "      <td>15.188272</td>\n",
       "      <td>0.000000</td>\n",
       "      <td>0.000000</td>\n",
       "      <td>0.000000</td>\n",
       "      <td>0.000000</td>\n",
       "      <td>0.000000</td>\n",
       "      <td>0.000000</td>\n",
       "      <td>...</td>\n",
       "      <td>0.000000</td>\n",
       "      <td>0.000000</td>\n",
       "      <td>0.000000</td>\n",
       "      <td>0.000000</td>\n",
       "      <td>0.000000</td>\n",
       "      <td>0.000000</td>\n",
       "      <td>0.000000</td>\n",
       "      <td>0.000000</td>\n",
       "      <td>0.000000</td>\n",
       "      <td>0.000000</td>\n",
       "    </tr>\n",
       "    <tr>\n",
       "      <th>25%</th>\n",
       "      <td>28.000000</td>\n",
       "      <td>12.000000</td>\n",
       "      <td>200.000000</td>\n",
       "      <td>24.560602</td>\n",
       "      <td>0.000000</td>\n",
       "      <td>0.000000</td>\n",
       "      <td>0.000000</td>\n",
       "      <td>0.000000</td>\n",
       "      <td>0.000000</td>\n",
       "      <td>0.000000</td>\n",
       "      <td>...</td>\n",
       "      <td>6.000000</td>\n",
       "      <td>0.000000</td>\n",
       "      <td>0.000000</td>\n",
       "      <td>0.000000</td>\n",
       "      <td>0.000000</td>\n",
       "      <td>0.000000</td>\n",
       "      <td>0.000000</td>\n",
       "      <td>0.000000</td>\n",
       "      <td>0.000000</td>\n",
       "      <td>0.000000</td>\n",
       "    </tr>\n",
       "    <tr>\n",
       "      <th>50%</th>\n",
       "      <td>38.000000</td>\n",
       "      <td>12.000000</td>\n",
       "      <td>800.000000</td>\n",
       "      <td>29.657539</td>\n",
       "      <td>0.000000</td>\n",
       "      <td>0.000000</td>\n",
       "      <td>0.000000</td>\n",
       "      <td>0.000000</td>\n",
       "      <td>0.000000</td>\n",
       "      <td>0.000000</td>\n",
       "      <td>...</td>\n",
       "      <td>15.000000</td>\n",
       "      <td>0.000000</td>\n",
       "      <td>0.000000</td>\n",
       "      <td>0.000000</td>\n",
       "      <td>0.000000</td>\n",
       "      <td>1.000000</td>\n",
       "      <td>0.000000</td>\n",
       "      <td>0.000000</td>\n",
       "      <td>5.000000</td>\n",
       "      <td>1.000000</td>\n",
       "    </tr>\n",
       "    <tr>\n",
       "      <th>75%</th>\n",
       "      <td>48.000000</td>\n",
       "      <td>14.000000</td>\n",
       "      <td>1500.000000</td>\n",
       "      <td>31.882021</td>\n",
       "      <td>0.000000</td>\n",
       "      <td>0.000000</td>\n",
       "      <td>0.000000</td>\n",
       "      <td>0.000000</td>\n",
       "      <td>1.000000</td>\n",
       "      <td>0.000000</td>\n",
       "      <td>...</td>\n",
       "      <td>20.000000</td>\n",
       "      <td>1.000000</td>\n",
       "      <td>0.000000</td>\n",
       "      <td>0.000000</td>\n",
       "      <td>0.000000</td>\n",
       "      <td>1.000000</td>\n",
       "      <td>0.000000</td>\n",
       "      <td>0.000000</td>\n",
       "      <td>18.000000</td>\n",
       "      <td>1.000000</td>\n",
       "    </tr>\n",
       "    <tr>\n",
       "      <th>max</th>\n",
       "      <td>66.000000</td>\n",
       "      <td>23.000000</td>\n",
       "      <td>12000.000000</td>\n",
       "      <td>63.872106</td>\n",
       "      <td>1.000000</td>\n",
       "      <td>1.000000</td>\n",
       "      <td>1.000000</td>\n",
       "      <td>1.000000</td>\n",
       "      <td>1.000000</td>\n",
       "      <td>1.000000</td>\n",
       "      <td>...</td>\n",
       "      <td>80.000000</td>\n",
       "      <td>1.000000</td>\n",
       "      <td>1.000000</td>\n",
       "      <td>1.000000</td>\n",
       "      <td>1.000000</td>\n",
       "      <td>1.000000</td>\n",
       "      <td>1.000000</td>\n",
       "      <td>1.000000</td>\n",
       "      <td>40.000000</td>\n",
       "      <td>1.000000</td>\n",
       "    </tr>\n",
       "  </tbody>\n",
       "</table>\n",
       "<p>8 rows × 31 columns</p>\n",
       "</div>"
      ],
      "text/plain": [
       "               age    years_edu  monthly_income          bmi    vetstatus  \\\n",
       "count  3108.000000  3108.000000     3108.000000  3108.000000  3108.000000   \n",
       "mean     38.476892    12.916136     1109.284373    29.519952     0.075611   \n",
       "std      12.049624     2.141975     1280.730545     6.823645     0.264418   \n",
       "min      18.000000     0.000000        0.000000    15.188272     0.000000   \n",
       "25%      28.000000    12.000000      200.000000    24.560602     0.000000   \n",
       "50%      38.000000    12.000000      800.000000    29.657539     0.000000   \n",
       "75%      48.000000    14.000000     1500.000000    31.882021     0.000000   \n",
       "max      66.000000    23.000000    12000.000000    63.872106     1.000000   \n",
       "\n",
       "             flyer     radio_ad      website     referral  \\\n",
       "count  3108.000000  3108.000000  3108.000000  3108.000000   \n",
       "mean      0.213320     0.005148     0.041506     0.355534   \n",
       "std       0.409718     0.071576     0.199489     0.478752   \n",
       "min       0.000000     0.000000     0.000000     0.000000   \n",
       "25%       0.000000     0.000000     0.000000     0.000000   \n",
       "50%       0.000000     0.000000     0.000000     0.000000   \n",
       "75%       0.000000     0.000000     0.000000     1.000000   \n",
       "max       1.000000     1.000000     1.000000     1.000000   \n",
       "\n",
       "       previously_participated     ...       cigs_per_day      alc_dep  \\\n",
       "count              3108.000000     ...        3108.000000  3108.000000   \n",
       "mean                  0.127091     ...          15.008044     0.353282   \n",
       "std                   0.333129     ...          11.630105     0.478066   \n",
       "min                   0.000000     ...           0.000000     0.000000   \n",
       "25%                   0.000000     ...           6.000000     0.000000   \n",
       "50%                   0.000000     ...          15.000000     0.000000   \n",
       "75%                   0.000000     ...          20.000000     1.000000   \n",
       "max                   1.000000     ...          80.000000     1.000000   \n",
       "\n",
       "           thc_dep     stim_dep   opiate_dep      nic_dep     coke_dep  \\\n",
       "count  3108.000000  3108.000000  3108.000000  3108.000000  3108.000000   \n",
       "mean      0.171493     0.035714     0.051802     0.630309     0.168275   \n",
       "std       0.377000     0.185607     0.221662     0.482799     0.374171   \n",
       "min       0.000000     0.000000     0.000000     0.000000     0.000000   \n",
       "25%       0.000000     0.000000     0.000000     0.000000     0.000000   \n",
       "50%       0.000000     0.000000     0.000000     1.000000     0.000000   \n",
       "75%       0.000000     0.000000     0.000000     1.000000     0.000000   \n",
       "max       1.000000     1.000000     1.000000     1.000000     1.000000   \n",
       "\n",
       "         other_dep  audit_score       target  \n",
       "count  3108.000000  3108.000000  3108.000000  \n",
       "mean      0.012227     9.573681     0.650257  \n",
       "std       0.109913    10.830468     0.476965  \n",
       "min       0.000000     0.000000     0.000000  \n",
       "25%       0.000000     0.000000     0.000000  \n",
       "50%       0.000000     5.000000     1.000000  \n",
       "75%       0.000000    18.000000     1.000000  \n",
       "max       1.000000    40.000000     1.000000  \n",
       "\n",
       "[8 rows x 31 columns]"
      ]
     },
     "execution_count": 24,
     "metadata": {},
     "output_type": "execute_result"
    }
   ],
   "source": [
    "data.describe()"
   ]
  },
  {
   "cell_type": "markdown",
   "metadata": {
    "_uuid": "2870c1aafdc2cc153a8213de3983c97bc9ecccfb"
   },
   "source": [
    "#### Input variables\n",
    "\n",
    "1 - age (numeric)\n",
    "\n",
    "2- years_edu (numeric)\n",
    "\n",
    "3- monthly_income (numeric)\n",
    "\n",
    "4- bmi (numeric)\n",
    "\n",
    "5-vetstatus (binary:'1','0')\n",
    "\n",
    "6- flyer (binary:'1','0')\n",
    "\n",
    "7-radio_ad (binary:'1','0')\n",
    "\n",
    "8-website (binary:'1','0')\n",
    "\n",
    "9-referral (binary:'1','0')\n",
    "\n",
    "10-previously_participated (binary:'1','0')\t\n",
    "\n",
    "11-craigslist (binary:'1','0')\t\t\n",
    "\n",
    "12-email_bulletin (binary:'1','0')\t\t\n",
    "\n",
    "13-other (binary:'1','0')\t\n",
    "\n",
    "14-facebook_ad (binary:'1','0')\t\n",
    "\n",
    "15-facebook_post (binary:'1','0')\t\n",
    "\n",
    "16-newspaper (binary:'1','0')\t\n",
    "\n",
    "17-bus_ad (binary:'1','0')\t\n",
    "\n",
    "18-billboard_ad (binary:'1','0')\t\n",
    "\n",
    "19-community_event (binary:'1','0')\n",
    "\n",
    "20-web search (binary:'1','0')\t\n",
    "\n",
    "21-smoker_status (binary:'1','0')\n",
    "\n",
    "22-cigs_per_day\t(numeric)\n",
    "\n",
    "23-alc_dep (binary:'1','0')\n",
    "\n",
    "24-thc_dep (binary:'1','0')\t\n",
    "\n",
    "25-stim_dep (binary:'1','0')\t\n",
    "\n",
    "26-opiate_dep (binary:'1','0')\n",
    "\n",
    "27-nic_dep (binary:'1','0')\n",
    "\n",
    "28-coke_dep\t(binary:'1','0')\n",
    "\n",
    "29-other_dep (binary:'1','0') \n",
    "\n",
    "30- audit_score\t(numeric)\n",
    "\n",
    "31-marital_status (categorical: 'never married', 'divorced', 'married', 'separated', 'widowed')\n",
    "\n",
    "32-ethnicity (categorical: 'not hispanic', 'hispanic', 'unknown')\n",
    "\n",
    "33-race (categorical: 'white', 'african american', 'more than one race', 'other', 'american indian', 'asian', 'hawaian', 'unknown')\n",
    "\n",
    "34-employment (categorical: unemployed', 'full time', 'part time')\n",
    "\n",
    "35-sex (categorical: 'male', 'female')\n",
    "\n",
    "#### Predict variable (desired target):\n",
    "\n",
    "target - Did the participant show up for their appointment? (binary: '1','0')\n",
    "\n",
    "The education column of the dataset has many categories and we need to reduce the categories for a better modelling. The education column has the following categories:"
   ]
  },
  {
   "cell_type": "code",
   "execution_count": 25,
   "metadata": {
    "_uuid": "a55ed8fa2360608e8dc34f2917bf783108de11e5"
   },
   "outputs": [
    {
     "data": {
      "text/plain": [
       "white                 2126\n",
       "african american       775\n",
       "more than one race      86\n",
       "other                   41\n",
       "american indian         18\n",
       "asian                   13\n",
       "hawaian                  7\n",
       "unknown                  4\n",
       "Name: race, dtype: int64"
      ]
     },
     "execution_count": 25,
     "metadata": {},
     "output_type": "execute_result"
    }
   ],
   "source": [
    "data.race.value_counts()"
   ]
  },
  {
   "cell_type": "markdown",
   "metadata": {
    "_uuid": "fd9d3ff154e9a4435ca9b081318115ecd6d7df1c"
   },
   "source": [
    "### Data exploration"
   ]
  },
  {
   "cell_type": "code",
   "execution_count": 29,
   "metadata": {
    "_uuid": "3157311a023d36f284f475959c9fba161c3b08a8"
   },
   "outputs": [
    {
     "data": {
      "text/plain": [
       "1    2021\n",
       "0    1087\n",
       "Name: target, dtype: int64"
      ]
     },
     "execution_count": 29,
     "metadata": {},
     "output_type": "execute_result"
    }
   ],
   "source": [
    "data['target'].value_counts()"
   ]
  },
  {
   "cell_type": "code",
   "execution_count": 30,
   "metadata": {
    "_uuid": "7c5445adb2843de64d523963b5000537c05c0861"
   },
   "outputs": [
    {
     "data": {
      "image/png": "[encoded data removed]",
      "text/plain": [
       "<Figure size 432x288 with 1 Axes>"
      ]
     },
     "metadata": {},
     "output_type": "display_data"
    }
   ],
   "source": [
    "sns.countplot(x='target',data=data, palette='hls')\n",
    "plt.show()"
   ]
  },
  {
   "cell_type": "code",
   "execution_count": 31,
   "metadata": {
    "_uuid": "6bac6294c21ba5f1a565b9fe016a1a2a595fb6de"
   },
   "outputs": [
    {
     "name": "stdout",
     "output_type": "stream",
     "text": [
      "percentage of no shows is 34.97425997425997\n",
      "percentage of shows 65.02574002574003\n"
     ]
    }
   ],
   "source": [
    "count_no_sub = len(data[data['target']==0])\n",
    "count_sub = len(data[data['target']==1])\n",
    "pct_of_no_sub = count_no_sub/(count_no_sub+count_sub)\n",
    "print(\"percentage of no shows is\", pct_of_no_sub*100)\n",
    "pct_of_sub = count_sub/(count_no_sub+count_sub)\n",
    "print(\"percentage of shows\", pct_of_sub*100)"
   ]
  },
  {
   "cell_type": "markdown",
   "metadata": {
    "_uuid": "8ce0b19ee0b7b63594c90afec33aa478f9340a45"
   },
   "source": [
    "Our classes are imbalanced, and the ratio of shows to no show instances is 65:35. Before we go ahead to balance the classes, Let's do some more exploration."
   ]
  },
  {
   "cell_type": "code",
   "execution_count": 32,
   "metadata": {
    "_uuid": "f62b8dd036532572a4ccab4b4fad1f7546ac5020"
   },
   "outputs": [
    {
     "data": {
      "text/html": [
       "<div>\n",
       "<style scoped>\n",
       "    .dataframe tbody tr th:only-of-type {\n",
       "        vertical-align: middle;\n",
       "    }\n",
       "\n",
       "    .dataframe tbody tr th {\n",
       "        vertical-align: top;\n",
       "    }\n",
       "\n",
       "    .dataframe thead th {\n",
       "        text-align: right;\n",
       "    }\n",
       "</style>\n",
       "<table border=\"1\" class=\"dataframe\">\n",
       "  <thead>\n",
       "    <tr style=\"text-align: right;\">\n",
       "      <th></th>\n",
       "      <th>age</th>\n",
       "      <th>years_edu</th>\n",
       "      <th>monthly_income</th>\n",
       "      <th>bmi</th>\n",
       "      <th>vetstatus</th>\n",
       "      <th>flyer</th>\n",
       "      <th>radio_ad</th>\n",
       "      <th>website</th>\n",
       "      <th>referral</th>\n",
       "      <th>previously_participated</th>\n",
       "      <th>...</th>\n",
       "      <th>smoker_status</th>\n",
       "      <th>cigs_per_day</th>\n",
       "      <th>alc_dep</th>\n",
       "      <th>thc_dep</th>\n",
       "      <th>stim_dep</th>\n",
       "      <th>opiate_dep</th>\n",
       "      <th>nic_dep</th>\n",
       "      <th>coke_dep</th>\n",
       "      <th>other_dep</th>\n",
       "      <th>audit_score</th>\n",
       "    </tr>\n",
       "    <tr>\n",
       "      <th>target</th>\n",
       "      <th></th>\n",
       "      <th></th>\n",
       "      <th></th>\n",
       "      <th></th>\n",
       "      <th></th>\n",
       "      <th></th>\n",
       "      <th></th>\n",
       "      <th></th>\n",
       "      <th></th>\n",
       "      <th></th>\n",
       "      <th></th>\n",
       "      <th></th>\n",
       "      <th></th>\n",
       "      <th></th>\n",
       "      <th></th>\n",
       "      <th></th>\n",
       "      <th></th>\n",
       "      <th></th>\n",
       "      <th></th>\n",
       "      <th></th>\n",
       "      <th></th>\n",
       "    </tr>\n",
       "  </thead>\n",
       "  <tbody>\n",
       "    <tr>\n",
       "      <th>0</th>\n",
       "      <td>36.117000</td>\n",
       "      <td>12.746806</td>\n",
       "      <td>1047.007360</td>\n",
       "      <td>29.239930</td>\n",
       "      <td>0.078197</td>\n",
       "      <td>0.185833</td>\n",
       "      <td>0.008280</td>\n",
       "      <td>0.034039</td>\n",
       "      <td>0.271389</td>\n",
       "      <td>0.089236</td>\n",
       "      <td>...</td>\n",
       "      <td>0.775529</td>\n",
       "      <td>14.494020</td>\n",
       "      <td>0.311868</td>\n",
       "      <td>0.148114</td>\n",
       "      <td>0.022079</td>\n",
       "      <td>0.050598</td>\n",
       "      <td>0.523459</td>\n",
       "      <td>0.134315</td>\n",
       "      <td>0.012879</td>\n",
       "      <td>9.620975</td>\n",
       "    </tr>\n",
       "    <tr>\n",
       "      <th>1</th>\n",
       "      <td>39.746165</td>\n",
       "      <td>13.007210</td>\n",
       "      <td>1142.780223</td>\n",
       "      <td>29.670562</td>\n",
       "      <td>0.074221</td>\n",
       "      <td>0.228105</td>\n",
       "      <td>0.003464</td>\n",
       "      <td>0.045522</td>\n",
       "      <td>0.400792</td>\n",
       "      <td>0.147452</td>\n",
       "      <td>...</td>\n",
       "      <td>0.785750</td>\n",
       "      <td>15.284513</td>\n",
       "      <td>0.375557</td>\n",
       "      <td>0.184067</td>\n",
       "      <td>0.043048</td>\n",
       "      <td>0.052449</td>\n",
       "      <td>0.687778</td>\n",
       "      <td>0.186541</td>\n",
       "      <td>0.011875</td>\n",
       "      <td>9.548243</td>\n",
       "    </tr>\n",
       "  </tbody>\n",
       "</table>\n",
       "<p>2 rows × 30 columns</p>\n",
       "</div>"
      ],
      "text/plain": [
       "              age  years_edu  monthly_income        bmi  vetstatus     flyer  \\\n",
       "target                                                                         \n",
       "0       36.117000  12.746806     1047.007360  29.239930   0.078197  0.185833   \n",
       "1       39.746165  13.007210     1142.780223  29.670562   0.074221  0.228105   \n",
       "\n",
       "        radio_ad   website  referral  previously_participated     ...       \\\n",
       "target                                                            ...        \n",
       "0       0.008280  0.034039  0.271389                 0.089236     ...        \n",
       "1       0.003464  0.045522  0.400792                 0.147452     ...        \n",
       "\n",
       "        smoker_status  cigs_per_day   alc_dep   thc_dep  stim_dep  opiate_dep  \\\n",
       "target                                                                          \n",
       "0            0.775529     14.494020  0.311868  0.148114  0.022079    0.050598   \n",
       "1            0.785750     15.284513  0.375557  0.184067  0.043048    0.052449   \n",
       "\n",
       "         nic_dep  coke_dep  other_dep  audit_score  \n",
       "target                                              \n",
       "0       0.523459  0.134315   0.012879     9.620975  \n",
       "1       0.687778  0.186541   0.011875     9.548243  \n",
       "\n",
       "[2 rows x 30 columns]"
      ]
     },
     "execution_count": 32,
     "metadata": {},
     "output_type": "execute_result"
    }
   ],
   "source": [
    "data.groupby('target').mean()"
   ]
  },
  {
   "cell_type": "markdown",
   "metadata": {
    "_uuid": "cccc095f8d5784766b17bf7af5481f39b31d3257"
   },
   "source": [
    "Observations:\n",
    "\n",
    "The data appears to be very similar in both target groups.\n",
    "\n",
    "We can calculate categorical means for other categorical variables such as education and marital status to get a more detailed sense of our data."
   ]
  },
  {
   "cell_type": "code",
   "execution_count": 33,
   "metadata": {
    "_uuid": "4fdc233159c4848fdb592cd9871b6247329e0fd5"
   },
   "outputs": [
    {
     "data": {
      "text/html": [
       "<div>\n",
       "<style scoped>\n",
       "    .dataframe tbody tr th:only-of-type {\n",
       "        vertical-align: middle;\n",
       "    }\n",
       "\n",
       "    .dataframe tbody tr th {\n",
       "        vertical-align: top;\n",
       "    }\n",
       "\n",
       "    .dataframe thead th {\n",
       "        text-align: right;\n",
       "    }\n",
       "</style>\n",
       "<table border=\"1\" class=\"dataframe\">\n",
       "  <thead>\n",
       "    <tr style=\"text-align: right;\">\n",
       "      <th></th>\n",
       "      <th>age</th>\n",
       "      <th>years_edu</th>\n",
       "      <th>monthly_income</th>\n",
       "      <th>bmi</th>\n",
       "      <th>vetstatus</th>\n",
       "      <th>flyer</th>\n",
       "      <th>radio_ad</th>\n",
       "      <th>website</th>\n",
       "      <th>referral</th>\n",
       "      <th>previously_participated</th>\n",
       "      <th>...</th>\n",
       "      <th>cigs_per_day</th>\n",
       "      <th>alc_dep</th>\n",
       "      <th>thc_dep</th>\n",
       "      <th>stim_dep</th>\n",
       "      <th>opiate_dep</th>\n",
       "      <th>nic_dep</th>\n",
       "      <th>coke_dep</th>\n",
       "      <th>other_dep</th>\n",
       "      <th>audit_score</th>\n",
       "      <th>target</th>\n",
       "    </tr>\n",
       "    <tr>\n",
       "      <th>employment</th>\n",
       "      <th></th>\n",
       "      <th></th>\n",
       "      <th></th>\n",
       "      <th></th>\n",
       "      <th></th>\n",
       "      <th></th>\n",
       "      <th></th>\n",
       "      <th></th>\n",
       "      <th></th>\n",
       "      <th></th>\n",
       "      <th></th>\n",
       "      <th></th>\n",
       "      <th></th>\n",
       "      <th></th>\n",
       "      <th></th>\n",
       "      <th></th>\n",
       "      <th></th>\n",
       "      <th></th>\n",
       "      <th></th>\n",
       "      <th></th>\n",
       "      <th></th>\n",
       "    </tr>\n",
       "  </thead>\n",
       "  <tbody>\n",
       "    <tr>\n",
       "      <th>full time</th>\n",
       "      <td>37.959866</td>\n",
       "      <td>13.602802</td>\n",
       "      <td>2057.526566</td>\n",
       "      <td>29.634093</td>\n",
       "      <td>0.070234</td>\n",
       "      <td>0.222965</td>\n",
       "      <td>0.006689</td>\n",
       "      <td>0.059086</td>\n",
       "      <td>0.253066</td>\n",
       "      <td>0.070234</td>\n",
       "      <td>...</td>\n",
       "      <td>12.518395</td>\n",
       "      <td>0.280936</td>\n",
       "      <td>0.098105</td>\n",
       "      <td>0.022297</td>\n",
       "      <td>0.033445</td>\n",
       "      <td>0.521739</td>\n",
       "      <td>0.092531</td>\n",
       "      <td>0.002230</td>\n",
       "      <td>8.454849</td>\n",
       "      <td>0.682274</td>\n",
       "    </tr>\n",
       "    <tr>\n",
       "      <th>part time</th>\n",
       "      <td>36.700337</td>\n",
       "      <td>13.015391</td>\n",
       "      <td>992.492424</td>\n",
       "      <td>29.610813</td>\n",
       "      <td>0.065657</td>\n",
       "      <td>0.235690</td>\n",
       "      <td>0.001684</td>\n",
       "      <td>0.031987</td>\n",
       "      <td>0.321549</td>\n",
       "      <td>0.148148</td>\n",
       "      <td>...</td>\n",
       "      <td>13.286195</td>\n",
       "      <td>0.350168</td>\n",
       "      <td>0.198653</td>\n",
       "      <td>0.020202</td>\n",
       "      <td>0.047138</td>\n",
       "      <td>0.592593</td>\n",
       "      <td>0.156566</td>\n",
       "      <td>0.021886</td>\n",
       "      <td>9.518519</td>\n",
       "      <td>0.627946</td>\n",
       "    </tr>\n",
       "    <tr>\n",
       "      <th>unemployed</th>\n",
       "      <td>39.484484</td>\n",
       "      <td>12.493440</td>\n",
       "      <td>622.112730</td>\n",
       "      <td>29.422840</td>\n",
       "      <td>0.084231</td>\n",
       "      <td>0.203927</td>\n",
       "      <td>0.005700</td>\n",
       "      <td>0.036099</td>\n",
       "      <td>0.434452</td>\n",
       "      <td>0.154528</td>\n",
       "      <td>...</td>\n",
       "      <td>17.399620</td>\n",
       "      <td>0.403420</td>\n",
       "      <td>0.207093</td>\n",
       "      <td>0.050032</td>\n",
       "      <td>0.065231</td>\n",
       "      <td>0.720709</td>\n",
       "      <td>0.219126</td>\n",
       "      <td>0.014566</td>\n",
       "      <td>10.407853</td>\n",
       "      <td>0.655478</td>\n",
       "    </tr>\n",
       "  </tbody>\n",
       "</table>\n",
       "<p>3 rows × 31 columns</p>\n",
       "</div>"
      ],
      "text/plain": [
       "                  age  years_edu  monthly_income        bmi  vetstatus  \\\n",
       "employment                                                               \n",
       "full time   37.959866  13.602802     2057.526566  29.634093   0.070234   \n",
       "part time   36.700337  13.015391      992.492424  29.610813   0.065657   \n",
       "unemployed  39.484484  12.493440      622.112730  29.422840   0.084231   \n",
       "\n",
       "               flyer  radio_ad   website  referral  previously_participated  \\\n",
       "employment                                                                    \n",
       "full time   0.222965  0.006689  0.059086  0.253066                 0.070234   \n",
       "part time   0.235690  0.001684  0.031987  0.321549                 0.148148   \n",
       "unemployed  0.203927  0.005700  0.036099  0.434452                 0.154528   \n",
       "\n",
       "              ...     cigs_per_day   alc_dep   thc_dep  stim_dep  opiate_dep  \\\n",
       "employment    ...                                                              \n",
       "full time     ...        12.518395  0.280936  0.098105  0.022297    0.033445   \n",
       "part time     ...        13.286195  0.350168  0.198653  0.020202    0.047138   \n",
       "unemployed    ...        17.399620  0.403420  0.207093  0.050032    0.065231   \n",
       "\n",
       "             nic_dep  coke_dep  other_dep  audit_score    target  \n",
       "employment                                                        \n",
       "full time   0.521739  0.092531   0.002230     8.454849  0.682274  \n",
       "part time   0.592593  0.156566   0.021886     9.518519  0.627946  \n",
       "unemployed  0.720709  0.219126   0.014566    10.407853  0.655478  \n",
       "\n",
       "[3 rows x 31 columns]"
      ]
     },
     "execution_count": 33,
     "metadata": {},
     "output_type": "execute_result"
    }
   ],
   "source": [
    "data.groupby('employment').mean()"
   ]
  },
  {
   "cell_type": "code",
   "execution_count": 34,
   "metadata": {
    "_uuid": "4dd6898a1b9bed7c8c19e934980327e21ef656b8"
   },
   "outputs": [
    {
     "data": {
      "text/html": [
       "<div>\n",
       "<style scoped>\n",
       "    .dataframe tbody tr th:only-of-type {\n",
       "        vertical-align: middle;\n",
       "    }\n",
       "\n",
       "    .dataframe tbody tr th {\n",
       "        vertical-align: top;\n",
       "    }\n",
       "\n",
       "    .dataframe thead th {\n",
       "        text-align: right;\n",
       "    }\n",
       "</style>\n",
       "<table border=\"1\" class=\"dataframe\">\n",
       "  <thead>\n",
       "    <tr style=\"text-align: right;\">\n",
       "      <th></th>\n",
       "      <th>age</th>\n",
       "      <th>years_edu</th>\n",
       "      <th>monthly_income</th>\n",
       "      <th>bmi</th>\n",
       "      <th>vetstatus</th>\n",
       "      <th>flyer</th>\n",
       "      <th>radio_ad</th>\n",
       "      <th>website</th>\n",
       "      <th>referral</th>\n",
       "      <th>previously_participated</th>\n",
       "      <th>...</th>\n",
       "      <th>cigs_per_day</th>\n",
       "      <th>alc_dep</th>\n",
       "      <th>thc_dep</th>\n",
       "      <th>stim_dep</th>\n",
       "      <th>opiate_dep</th>\n",
       "      <th>nic_dep</th>\n",
       "      <th>coke_dep</th>\n",
       "      <th>other_dep</th>\n",
       "      <th>audit_score</th>\n",
       "      <th>target</th>\n",
       "    </tr>\n",
       "    <tr>\n",
       "      <th>marital_status</th>\n",
       "      <th></th>\n",
       "      <th></th>\n",
       "      <th></th>\n",
       "      <th></th>\n",
       "      <th></th>\n",
       "      <th></th>\n",
       "      <th></th>\n",
       "      <th></th>\n",
       "      <th></th>\n",
       "      <th></th>\n",
       "      <th></th>\n",
       "      <th></th>\n",
       "      <th></th>\n",
       "      <th></th>\n",
       "      <th></th>\n",
       "      <th></th>\n",
       "      <th></th>\n",
       "      <th></th>\n",
       "      <th></th>\n",
       "      <th></th>\n",
       "      <th></th>\n",
       "    </tr>\n",
       "  </thead>\n",
       "  <tbody>\n",
       "    <tr>\n",
       "      <th>divorced</th>\n",
       "      <td>46.878882</td>\n",
       "      <td>12.987133</td>\n",
       "      <td>1171.163043</td>\n",
       "      <td>29.428569</td>\n",
       "      <td>0.122671</td>\n",
       "      <td>0.248447</td>\n",
       "      <td>0.009317</td>\n",
       "      <td>0.020186</td>\n",
       "      <td>0.392857</td>\n",
       "      <td>0.166149</td>\n",
       "      <td>...</td>\n",
       "      <td>16.054348</td>\n",
       "      <td>0.380435</td>\n",
       "      <td>0.144410</td>\n",
       "      <td>0.027950</td>\n",
       "      <td>0.066770</td>\n",
       "      <td>0.683230</td>\n",
       "      <td>0.211180</td>\n",
       "      <td>0.004658</td>\n",
       "      <td>9.666149</td>\n",
       "      <td>0.701863</td>\n",
       "    </tr>\n",
       "    <tr>\n",
       "      <th>married</th>\n",
       "      <td>41.602094</td>\n",
       "      <td>13.460982</td>\n",
       "      <td>1694.082164</td>\n",
       "      <td>30.800552</td>\n",
       "      <td>0.090750</td>\n",
       "      <td>0.188482</td>\n",
       "      <td>0.005236</td>\n",
       "      <td>0.076789</td>\n",
       "      <td>0.251309</td>\n",
       "      <td>0.115183</td>\n",
       "      <td>...</td>\n",
       "      <td>14.808028</td>\n",
       "      <td>0.235602</td>\n",
       "      <td>0.123909</td>\n",
       "      <td>0.034904</td>\n",
       "      <td>0.045375</td>\n",
       "      <td>0.567190</td>\n",
       "      <td>0.089005</td>\n",
       "      <td>0.017452</td>\n",
       "      <td>7.684119</td>\n",
       "      <td>0.661431</td>\n",
       "    </tr>\n",
       "    <tr>\n",
       "      <th>never married</th>\n",
       "      <td>33.290757</td>\n",
       "      <td>12.835045</td>\n",
       "      <td>923.956194</td>\n",
       "      <td>29.144955</td>\n",
       "      <td>0.046855</td>\n",
       "      <td>0.196406</td>\n",
       "      <td>0.003209</td>\n",
       "      <td>0.045571</td>\n",
       "      <td>0.382542</td>\n",
       "      <td>0.122593</td>\n",
       "      <td>...</td>\n",
       "      <td>14.628370</td>\n",
       "      <td>0.397946</td>\n",
       "      <td>0.206675</td>\n",
       "      <td>0.038511</td>\n",
       "      <td>0.045571</td>\n",
       "      <td>0.621951</td>\n",
       "      <td>0.175225</td>\n",
       "      <td>0.016046</td>\n",
       "      <td>10.699615</td>\n",
       "      <td>0.637356</td>\n",
       "    </tr>\n",
       "    <tr>\n",
       "      <th>separated</th>\n",
       "      <td>39.023148</td>\n",
       "      <td>12.255289</td>\n",
       "      <td>829.435185</td>\n",
       "      <td>29.233971</td>\n",
       "      <td>0.134259</td>\n",
       "      <td>0.259259</td>\n",
       "      <td>0.009259</td>\n",
       "      <td>0.004630</td>\n",
       "      <td>0.412037</td>\n",
       "      <td>0.078704</td>\n",
       "      <td>...</td>\n",
       "      <td>15.856481</td>\n",
       "      <td>0.370370</td>\n",
       "      <td>0.212963</td>\n",
       "      <td>0.060185</td>\n",
       "      <td>0.078704</td>\n",
       "      <td>0.712963</td>\n",
       "      <td>0.231481</td>\n",
       "      <td>0.000000</td>\n",
       "      <td>8.842593</td>\n",
       "      <td>0.643519</td>\n",
       "    </tr>\n",
       "    <tr>\n",
       "      <th>widowed</th>\n",
       "      <td>48.675000</td>\n",
       "      <td>11.925000</td>\n",
       "      <td>912.825000</td>\n",
       "      <td>29.213415</td>\n",
       "      <td>0.025000</td>\n",
       "      <td>0.400000</td>\n",
       "      <td>0.000000</td>\n",
       "      <td>0.000000</td>\n",
       "      <td>0.287500</td>\n",
       "      <td>0.175000</td>\n",
       "      <td>...</td>\n",
       "      <td>19.562500</td>\n",
       "      <td>0.212500</td>\n",
       "      <td>0.000000</td>\n",
       "      <td>0.000000</td>\n",
       "      <td>0.050000</td>\n",
       "      <td>0.875000</td>\n",
       "      <td>0.162500</td>\n",
       "      <td>0.000000</td>\n",
       "      <td>6.525000</td>\n",
       "      <td>0.712500</td>\n",
       "    </tr>\n",
       "  </tbody>\n",
       "</table>\n",
       "<p>5 rows × 31 columns</p>\n",
       "</div>"
      ],
      "text/plain": [
       "                      age  years_edu  monthly_income        bmi  vetstatus  \\\n",
       "marital_status                                                               \n",
       "divorced        46.878882  12.987133     1171.163043  29.428569   0.122671   \n",
       "married         41.602094  13.460982     1694.082164  30.800552   0.090750   \n",
       "never married   33.290757  12.835045      923.956194  29.144955   0.046855   \n",
       "separated       39.023148  12.255289      829.435185  29.233971   0.134259   \n",
       "widowed         48.675000  11.925000      912.825000  29.213415   0.025000   \n",
       "\n",
       "                   flyer  radio_ad   website  referral  \\\n",
       "marital_status                                           \n",
       "divorced        0.248447  0.009317  0.020186  0.392857   \n",
       "married         0.188482  0.005236  0.076789  0.251309   \n",
       "never married   0.196406  0.003209  0.045571  0.382542   \n",
       "separated       0.259259  0.009259  0.004630  0.412037   \n",
       "widowed         0.400000  0.000000  0.000000  0.287500   \n",
       "\n",
       "                previously_participated    ...     cigs_per_day   alc_dep  \\\n",
       "marital_status                             ...                              \n",
       "divorced                       0.166149    ...        16.054348  0.380435   \n",
       "married                        0.115183    ...        14.808028  0.235602   \n",
       "never married                  0.122593    ...        14.628370  0.397946   \n",
       "separated                      0.078704    ...        15.856481  0.370370   \n",
       "widowed                        0.175000    ...        19.562500  0.212500   \n",
       "\n",
       "                 thc_dep  stim_dep  opiate_dep   nic_dep  coke_dep  other_dep  \\\n",
       "marital_status                                                                  \n",
       "divorced        0.144410  0.027950    0.066770  0.683230  0.211180   0.004658   \n",
       "married         0.123909  0.034904    0.045375  0.567190  0.089005   0.017452   \n",
       "never married   0.206675  0.038511    0.045571  0.621951  0.175225   0.016046   \n",
       "separated       0.212963  0.060185    0.078704  0.712963  0.231481   0.000000   \n",
       "widowed         0.000000  0.000000    0.050000  0.875000  0.162500   0.000000   \n",
       "\n",
       "                audit_score    target  \n",
       "marital_status                         \n",
       "divorced           9.666149  0.701863  \n",
       "married            7.684119  0.661431  \n",
       "never married     10.699615  0.637356  \n",
       "separated          8.842593  0.643519  \n",
       "widowed            6.525000  0.712500  \n",
       "\n",
       "[5 rows x 31 columns]"
      ]
     },
     "execution_count": 34,
     "metadata": {},
     "output_type": "execute_result"
    }
   ],
   "source": [
    "data.groupby('marital_status').mean()"
   ]
  },
  {
   "cell_type": "code",
   "execution_count": 35,
   "metadata": {
    "_uuid": "deb475df043a4837f02bc3c71823d8c82e7f7cd7"
   },
   "outputs": [
    {
     "data": {
      "text/html": [
       "<div>\n",
       "<style scoped>\n",
       "    .dataframe tbody tr th:only-of-type {\n",
       "        vertical-align: middle;\n",
       "    }\n",
       "\n",
       "    .dataframe tbody tr th {\n",
       "        vertical-align: top;\n",
       "    }\n",
       "\n",
       "    .dataframe thead th {\n",
       "        text-align: right;\n",
       "    }\n",
       "</style>\n",
       "<table border=\"1\" class=\"dataframe\">\n",
       "  <thead>\n",
       "    <tr style=\"text-align: right;\">\n",
       "      <th></th>\n",
       "      <th>age</th>\n",
       "      <th>years_edu</th>\n",
       "      <th>monthly_income</th>\n",
       "      <th>bmi</th>\n",
       "      <th>vetstatus</th>\n",
       "      <th>flyer</th>\n",
       "      <th>radio_ad</th>\n",
       "      <th>website</th>\n",
       "      <th>referral</th>\n",
       "      <th>previously_participated</th>\n",
       "      <th>...</th>\n",
       "      <th>cigs_per_day</th>\n",
       "      <th>alc_dep</th>\n",
       "      <th>thc_dep</th>\n",
       "      <th>stim_dep</th>\n",
       "      <th>opiate_dep</th>\n",
       "      <th>nic_dep</th>\n",
       "      <th>coke_dep</th>\n",
       "      <th>other_dep</th>\n",
       "      <th>audit_score</th>\n",
       "      <th>target</th>\n",
       "    </tr>\n",
       "    <tr>\n",
       "      <th>race</th>\n",
       "      <th></th>\n",
       "      <th></th>\n",
       "      <th></th>\n",
       "      <th></th>\n",
       "      <th></th>\n",
       "      <th></th>\n",
       "      <th></th>\n",
       "      <th></th>\n",
       "      <th></th>\n",
       "      <th></th>\n",
       "      <th></th>\n",
       "      <th></th>\n",
       "      <th></th>\n",
       "      <th></th>\n",
       "      <th></th>\n",
       "      <th></th>\n",
       "      <th></th>\n",
       "      <th></th>\n",
       "      <th></th>\n",
       "      <th></th>\n",
       "      <th></th>\n",
       "    </tr>\n",
       "  </thead>\n",
       "  <tbody>\n",
       "    <tr>\n",
       "      <th>african american</th>\n",
       "      <td>39.430968</td>\n",
       "      <td>12.149769</td>\n",
       "      <td>741.609355</td>\n",
       "      <td>29.670566</td>\n",
       "      <td>0.067097</td>\n",
       "      <td>0.233548</td>\n",
       "      <td>0.001290</td>\n",
       "      <td>0.032258</td>\n",
       "      <td>0.501935</td>\n",
       "      <td>0.185806</td>\n",
       "      <td>...</td>\n",
       "      <td>15.952258</td>\n",
       "      <td>0.516129</td>\n",
       "      <td>0.338065</td>\n",
       "      <td>0.015484</td>\n",
       "      <td>0.033548</td>\n",
       "      <td>0.732903</td>\n",
       "      <td>0.356129</td>\n",
       "      <td>0.014194</td>\n",
       "      <td>13.314839</td>\n",
       "      <td>0.659355</td>\n",
       "    </tr>\n",
       "    <tr>\n",
       "      <th>american indian</th>\n",
       "      <td>45.222222</td>\n",
       "      <td>12.972222</td>\n",
       "      <td>315.111111</td>\n",
       "      <td>25.677396</td>\n",
       "      <td>0.222222</td>\n",
       "      <td>0.277778</td>\n",
       "      <td>0.000000</td>\n",
       "      <td>0.000000</td>\n",
       "      <td>0.388889</td>\n",
       "      <td>0.000000</td>\n",
       "      <td>...</td>\n",
       "      <td>18.833333</td>\n",
       "      <td>0.333333</td>\n",
       "      <td>0.111111</td>\n",
       "      <td>0.000000</td>\n",
       "      <td>0.000000</td>\n",
       "      <td>0.833333</td>\n",
       "      <td>0.055556</td>\n",
       "      <td>0.000000</td>\n",
       "      <td>11.000000</td>\n",
       "      <td>0.611111</td>\n",
       "    </tr>\n",
       "    <tr>\n",
       "      <th>asian</th>\n",
       "      <td>29.384615</td>\n",
       "      <td>14.923077</td>\n",
       "      <td>1107.692308</td>\n",
       "      <td>24.604754</td>\n",
       "      <td>0.230769</td>\n",
       "      <td>0.384615</td>\n",
       "      <td>0.076923</td>\n",
       "      <td>0.000000</td>\n",
       "      <td>0.000000</td>\n",
       "      <td>0.230769</td>\n",
       "      <td>...</td>\n",
       "      <td>9.076923</td>\n",
       "      <td>0.000000</td>\n",
       "      <td>0.000000</td>\n",
       "      <td>0.000000</td>\n",
       "      <td>0.000000</td>\n",
       "      <td>0.384615</td>\n",
       "      <td>0.230769</td>\n",
       "      <td>0.000000</td>\n",
       "      <td>4.307692</td>\n",
       "      <td>0.923077</td>\n",
       "    </tr>\n",
       "    <tr>\n",
       "      <th>hawaian</th>\n",
       "      <td>36.428571</td>\n",
       "      <td>10.714286</td>\n",
       "      <td>1797.142857</td>\n",
       "      <td>31.366646</td>\n",
       "      <td>0.000000</td>\n",
       "      <td>0.000000</td>\n",
       "      <td>0.000000</td>\n",
       "      <td>0.000000</td>\n",
       "      <td>0.285714</td>\n",
       "      <td>0.000000</td>\n",
       "      <td>...</td>\n",
       "      <td>6.285714</td>\n",
       "      <td>0.000000</td>\n",
       "      <td>0.000000</td>\n",
       "      <td>0.000000</td>\n",
       "      <td>0.000000</td>\n",
       "      <td>0.000000</td>\n",
       "      <td>0.000000</td>\n",
       "      <td>0.000000</td>\n",
       "      <td>6.000000</td>\n",
       "      <td>0.285714</td>\n",
       "    </tr>\n",
       "    <tr>\n",
       "      <th>more than one race</th>\n",
       "      <td>32.744186</td>\n",
       "      <td>12.906977</td>\n",
       "      <td>747.988372</td>\n",
       "      <td>31.803147</td>\n",
       "      <td>0.069767</td>\n",
       "      <td>0.104651</td>\n",
       "      <td>0.000000</td>\n",
       "      <td>0.011628</td>\n",
       "      <td>0.616279</td>\n",
       "      <td>0.139535</td>\n",
       "      <td>...</td>\n",
       "      <td>14.500000</td>\n",
       "      <td>0.290698</td>\n",
       "      <td>0.209302</td>\n",
       "      <td>0.034884</td>\n",
       "      <td>0.023256</td>\n",
       "      <td>0.697674</td>\n",
       "      <td>0.058140</td>\n",
       "      <td>0.011628</td>\n",
       "      <td>9.011628</td>\n",
       "      <td>0.593023</td>\n",
       "    </tr>\n",
       "    <tr>\n",
       "      <th>other</th>\n",
       "      <td>30.658537</td>\n",
       "      <td>13.975610</td>\n",
       "      <td>1369.804878</td>\n",
       "      <td>29.843477</td>\n",
       "      <td>0.024390</td>\n",
       "      <td>0.048780</td>\n",
       "      <td>0.000000</td>\n",
       "      <td>0.121951</td>\n",
       "      <td>0.292683</td>\n",
       "      <td>0.000000</td>\n",
       "      <td>...</td>\n",
       "      <td>9.658537</td>\n",
       "      <td>0.292683</td>\n",
       "      <td>0.195122</td>\n",
       "      <td>0.024390</td>\n",
       "      <td>0.024390</td>\n",
       "      <td>0.365854</td>\n",
       "      <td>0.024390</td>\n",
       "      <td>0.000000</td>\n",
       "      <td>7.634146</td>\n",
       "      <td>0.707317</td>\n",
       "    </tr>\n",
       "    <tr>\n",
       "      <th>unknown</th>\n",
       "      <td>33.750000</td>\n",
       "      <td>14.750000</td>\n",
       "      <td>1350.000000</td>\n",
       "      <td>28.196994</td>\n",
       "      <td>0.000000</td>\n",
       "      <td>0.000000</td>\n",
       "      <td>0.000000</td>\n",
       "      <td>0.000000</td>\n",
       "      <td>0.250000</td>\n",
       "      <td>0.000000</td>\n",
       "      <td>...</td>\n",
       "      <td>6.750000</td>\n",
       "      <td>0.500000</td>\n",
       "      <td>0.000000</td>\n",
       "      <td>0.000000</td>\n",
       "      <td>0.000000</td>\n",
       "      <td>0.250000</td>\n",
       "      <td>0.000000</td>\n",
       "      <td>0.000000</td>\n",
       "      <td>12.000000</td>\n",
       "      <td>0.500000</td>\n",
       "    </tr>\n",
       "    <tr>\n",
       "      <th>white</th>\n",
       "      <td>38.554092</td>\n",
       "      <td>13.168592</td>\n",
       "      <td>1260.845522</td>\n",
       "      <td>29.405555</td>\n",
       "      <td>0.079492</td>\n",
       "      <td>0.216369</td>\n",
       "      <td>0.006585</td>\n",
       "      <td>0.046096</td>\n",
       "      <td>0.301505</td>\n",
       "      <td>0.111007</td>\n",
       "      <td>...</td>\n",
       "      <td>15.088899</td>\n",
       "      <td>0.307150</td>\n",
       "      <td>0.113829</td>\n",
       "      <td>0.044685</td>\n",
       "      <td>0.062088</td>\n",
       "      <td>0.608655</td>\n",
       "      <td>0.111477</td>\n",
       "      <td>0.012230</td>\n",
       "      <td>8.465193</td>\n",
       "      <td>0.659454</td>\n",
       "    </tr>\n",
       "  </tbody>\n",
       "</table>\n",
       "<p>8 rows × 31 columns</p>\n",
       "</div>"
      ],
      "text/plain": [
       "                          age  years_edu  monthly_income        bmi  \\\n",
       "race                                                                  \n",
       "african american    39.430968  12.149769      741.609355  29.670566   \n",
       "american indian     45.222222  12.972222      315.111111  25.677396   \n",
       "asian               29.384615  14.923077     1107.692308  24.604754   \n",
       "hawaian             36.428571  10.714286     1797.142857  31.366646   \n",
       "more than one race  32.744186  12.906977      747.988372  31.803147   \n",
       "other               30.658537  13.975610     1369.804878  29.843477   \n",
       "unknown             33.750000  14.750000     1350.000000  28.196994   \n",
       "white               38.554092  13.168592     1260.845522  29.405555   \n",
       "\n",
       "                    vetstatus     flyer  radio_ad   website  referral  \\\n",
       "race                                                                    \n",
       "african american     0.067097  0.233548  0.001290  0.032258  0.501935   \n",
       "american indian      0.222222  0.277778  0.000000  0.000000  0.388889   \n",
       "asian                0.230769  0.384615  0.076923  0.000000  0.000000   \n",
       "hawaian              0.000000  0.000000  0.000000  0.000000  0.285714   \n",
       "more than one race   0.069767  0.104651  0.000000  0.011628  0.616279   \n",
       "other                0.024390  0.048780  0.000000  0.121951  0.292683   \n",
       "unknown              0.000000  0.000000  0.000000  0.000000  0.250000   \n",
       "white                0.079492  0.216369  0.006585  0.046096  0.301505   \n",
       "\n",
       "                    previously_participated    ...     cigs_per_day   alc_dep  \\\n",
       "race                                           ...                              \n",
       "african american                   0.185806    ...        15.952258  0.516129   \n",
       "american indian                    0.000000    ...        18.833333  0.333333   \n",
       "asian                              0.230769    ...         9.076923  0.000000   \n",
       "hawaian                            0.000000    ...         6.285714  0.000000   \n",
       "more than one race                 0.139535    ...        14.500000  0.290698   \n",
       "other                              0.000000    ...         9.658537  0.292683   \n",
       "unknown                            0.000000    ...         6.750000  0.500000   \n",
       "white                              0.111007    ...        15.088899  0.307150   \n",
       "\n",
       "                     thc_dep  stim_dep  opiate_dep   nic_dep  coke_dep  \\\n",
       "race                                                                     \n",
       "african american    0.338065  0.015484    0.033548  0.732903  0.356129   \n",
       "american indian     0.111111  0.000000    0.000000  0.833333  0.055556   \n",
       "asian               0.000000  0.000000    0.000000  0.384615  0.230769   \n",
       "hawaian             0.000000  0.000000    0.000000  0.000000  0.000000   \n",
       "more than one race  0.209302  0.034884    0.023256  0.697674  0.058140   \n",
       "other               0.195122  0.024390    0.024390  0.365854  0.024390   \n",
       "unknown             0.000000  0.000000    0.000000  0.250000  0.000000   \n",
       "white               0.113829  0.044685    0.062088  0.608655  0.111477   \n",
       "\n",
       "                    other_dep  audit_score    target  \n",
       "race                                                  \n",
       "african american     0.014194    13.314839  0.659355  \n",
       "american indian      0.000000    11.000000  0.611111  \n",
       "asian                0.000000     4.307692  0.923077  \n",
       "hawaian              0.000000     6.000000  0.285714  \n",
       "more than one race   0.011628     9.011628  0.593023  \n",
       "other                0.000000     7.634146  0.707317  \n",
       "unknown              0.000000    12.000000  0.500000  \n",
       "white                0.012230     8.465193  0.659454  \n",
       "\n",
       "[8 rows x 31 columns]"
      ]
     },
     "execution_count": 35,
     "metadata": {},
     "output_type": "execute_result"
    }
   ],
   "source": [
    "data.groupby('race').mean()"
   ]
  },
  {
   "cell_type": "code",
   "execution_count": 36,
   "metadata": {
    "_uuid": "8835533e07ac41e1875fa9acbb15c6fb3d104673"
   },
   "outputs": [
    {
     "data": {
      "text/html": [
       "<div>\n",
       "<style scoped>\n",
       "    .dataframe tbody tr th:only-of-type {\n",
       "        vertical-align: middle;\n",
       "    }\n",
       "\n",
       "    .dataframe tbody tr th {\n",
       "        vertical-align: top;\n",
       "    }\n",
       "\n",
       "    .dataframe thead th {\n",
       "        text-align: right;\n",
       "    }\n",
       "</style>\n",
       "<table border=\"1\" class=\"dataframe\">\n",
       "  <thead>\n",
       "    <tr style=\"text-align: right;\">\n",
       "      <th></th>\n",
       "      <th>age</th>\n",
       "      <th>years_edu</th>\n",
       "      <th>monthly_income</th>\n",
       "      <th>bmi</th>\n",
       "      <th>vetstatus</th>\n",
       "      <th>flyer</th>\n",
       "      <th>radio_ad</th>\n",
       "      <th>website</th>\n",
       "      <th>referral</th>\n",
       "      <th>previously_participated</th>\n",
       "      <th>...</th>\n",
       "      <th>cigs_per_day</th>\n",
       "      <th>alc_dep</th>\n",
       "      <th>thc_dep</th>\n",
       "      <th>stim_dep</th>\n",
       "      <th>opiate_dep</th>\n",
       "      <th>nic_dep</th>\n",
       "      <th>coke_dep</th>\n",
       "      <th>other_dep</th>\n",
       "      <th>audit_score</th>\n",
       "      <th>target</th>\n",
       "    </tr>\n",
       "    <tr>\n",
       "      <th>sex</th>\n",
       "      <th></th>\n",
       "      <th></th>\n",
       "      <th></th>\n",
       "      <th></th>\n",
       "      <th></th>\n",
       "      <th></th>\n",
       "      <th></th>\n",
       "      <th></th>\n",
       "      <th></th>\n",
       "      <th></th>\n",
       "      <th></th>\n",
       "      <th></th>\n",
       "      <th></th>\n",
       "      <th></th>\n",
       "      <th></th>\n",
       "      <th></th>\n",
       "      <th></th>\n",
       "      <th></th>\n",
       "      <th></th>\n",
       "      <th></th>\n",
       "      <th></th>\n",
       "    </tr>\n",
       "  </thead>\n",
       "  <tbody>\n",
       "    <tr>\n",
       "      <th>female</th>\n",
       "      <td>38.729334</td>\n",
       "      <td>13.136613</td>\n",
       "      <td>1137.904603</td>\n",
       "      <td>30.706501</td>\n",
       "      <td>0.026017</td>\n",
       "      <td>0.208139</td>\n",
       "      <td>0.004003</td>\n",
       "      <td>0.048699</td>\n",
       "      <td>0.318879</td>\n",
       "      <td>0.126084</td>\n",
       "      <td>...</td>\n",
       "      <td>14.541694</td>\n",
       "      <td>0.288192</td>\n",
       "      <td>0.123416</td>\n",
       "      <td>0.032688</td>\n",
       "      <td>0.049366</td>\n",
       "      <td>0.639760</td>\n",
       "      <td>0.142762</td>\n",
       "      <td>0.012008</td>\n",
       "      <td>7.851901</td>\n",
       "      <td>0.647098</td>\n",
       "    </tr>\n",
       "    <tr>\n",
       "      <th>male</th>\n",
       "      <td>38.252156</td>\n",
       "      <td>12.706652</td>\n",
       "      <td>1085.818246</td>\n",
       "      <td>28.400458</td>\n",
       "      <td>0.123193</td>\n",
       "      <td>0.220616</td>\n",
       "      <td>0.006285</td>\n",
       "      <td>0.035198</td>\n",
       "      <td>0.394092</td>\n",
       "      <td>0.129478</td>\n",
       "      <td>...</td>\n",
       "      <td>15.617222</td>\n",
       "      <td>0.418605</td>\n",
       "      <td>0.218730</td>\n",
       "      <td>0.038969</td>\n",
       "      <td>0.054683</td>\n",
       "      <td>0.628536</td>\n",
       "      <td>0.194217</td>\n",
       "      <td>0.012571</td>\n",
       "      <td>11.304211</td>\n",
       "      <td>0.660591</td>\n",
       "    </tr>\n",
       "  </tbody>\n",
       "</table>\n",
       "<p>2 rows × 31 columns</p>\n",
       "</div>"
      ],
      "text/plain": [
       "              age  years_edu  monthly_income        bmi  vetstatus     flyer  \\\n",
       "sex                                                                            \n",
       "female  38.729334  13.136613     1137.904603  30.706501   0.026017  0.208139   \n",
       "male    38.252156  12.706652     1085.818246  28.400458   0.123193  0.220616   \n",
       "\n",
       "        radio_ad   website  referral  previously_participated    ...     \\\n",
       "sex                                                              ...      \n",
       "female  0.004003  0.048699  0.318879                 0.126084    ...      \n",
       "male    0.006285  0.035198  0.394092                 0.129478    ...      \n",
       "\n",
       "        cigs_per_day   alc_dep   thc_dep  stim_dep  opiate_dep   nic_dep  \\\n",
       "sex                                                                        \n",
       "female     14.541694  0.288192  0.123416  0.032688    0.049366  0.639760   \n",
       "male       15.617222  0.418605  0.218730  0.038969    0.054683  0.628536   \n",
       "\n",
       "        coke_dep  other_dep  audit_score    target  \n",
       "sex                                                 \n",
       "female  0.142762   0.012008     7.851901  0.647098  \n",
       "male    0.194217   0.012571    11.304211  0.660591  \n",
       "\n",
       "[2 rows x 31 columns]"
      ]
     },
     "execution_count": 36,
     "metadata": {},
     "output_type": "execute_result"
    }
   ],
   "source": [
    "data.groupby('sex').mean()"
   ]
  },
  {
   "cell_type": "code",
   "execution_count": 37,
   "metadata": {
    "_uuid": "d516ded19e98ac101e8d15e38e6308e4e29733aa"
   },
   "outputs": [
    {
     "data": {
      "text/plain": [
       "29.657539    657\n",
       "24.389796     22\n",
       "29.950296     19\n",
       "22.707730     19\n",
       "20.358654     18\n",
       "Name: bmi, dtype: int64"
      ]
     },
     "execution_count": 37,
     "metadata": {},
     "output_type": "execute_result"
    }
   ],
   "source": [
    "data.bmi.value_counts().head()"
   ]
  },
  {
   "cell_type": "markdown",
   "metadata": {
    "_uuid": "f880eb3bb5e9a88d456e959f02ea7f4f69951b90"
   },
   "source": [
    "Visualizations"
   ]
  },
  {
   "cell_type": "code",
   "execution_count": 38,
   "metadata": {
    "_uuid": "7f227c2b4b383d33129062f288cf2d22bc7e57d9"
   },
   "outputs": [
    {
     "data": {
      "text/plain": [
       "Text(0,0.5,'Frequency of Show')"
      ]
     },
     "execution_count": 38,
     "metadata": {},
     "output_type": "execute_result"
    },
    {
     "data": {
      "image/png": "[encoded data removed]",
      "text/plain": [
       "<Figure size 432x288 with 1 Axes>"
      ]
     },
     "metadata": {},
     "output_type": "display_data"
    }
   ],
   "source": [
    "%matplotlib inline\n",
    "pd.crosstab(data.employment,data.target).plot(kind='bar')\n",
    "plt.title('Show Frequency for Employment Status')\n",
    "plt.xlabel('Employment Status')\n",
    "plt.ylabel('Frequency of Show')"
   ]
  },
  {
   "cell_type": "markdown",
   "metadata": {
    "_uuid": "84149ee2a4ba54cb5f2f01b31258dd100ca984e1"
   },
   "source": [
    "The frequency of show and no show appears to be higher for unemployed. This makes sense because many of our participants are motivated to do our research studies because they are unemployed and need money. Full time employment appears to reflect more reliability for appointment attendance."
   ]
  },
  {
   "cell_type": "code",
   "execution_count": 39,
   "metadata": {
    "_uuid": "a35d1772123b11475f042bec1a54c9aabdf6ace1"
   },
   "outputs": [
    {
     "data": {
      "text/plain": [
       "Text(0,0.5,'Proportion of Show')"
      ]
     },
     "execution_count": 39,
     "metadata": {},
     "output_type": "execute_result"
    },
    {
     "data": {
      "image/png": "[encoded data removed]",
      "text/plain": [
       "<Figure size 432x288 with 1 Axes>"
      ]
     },
     "metadata": {},
     "output_type": "display_data"
    }
   ],
   "source": [
    "table=pd.crosstab(data.marital_status,data.target)\n",
    "table.div(table.sum(1).astype(float), axis=0).plot(kind='bar', stacked=True)\n",
    "plt.title('Stacked Bar Chart of Marital Status vs Show')\n",
    "plt.xlabel('Marital Status')\n",
    "plt.ylabel('Proportion of Show')"
   ]
  },
  {
   "cell_type": "markdown",
   "metadata": {
    "_uuid": "99837227e86b02ea10f0d81cf3686bdb86b828f9"
   },
   "source": [
    "Hard to see, but the marital status does not seem a strong predictor for the outcome variable."
   ]
  },
  {
   "cell_type": "code",
   "execution_count": 40,
   "metadata": {
    "_uuid": "c58dbb16edf59d1d4ffb0a9d05bc861f608e7664"
   },
   "outputs": [
    {
     "data": {
      "text/plain": [
       "Text(0,0.5,'Proportion of Show')"
      ]
     },
     "execution_count": 40,
     "metadata": {},
     "output_type": "execute_result"
    },
    {
     "data": {
      "image/png": "[encoded data removed]",
      "text/plain": [
       "<Figure size 432x288 with 1 Axes>"
      ]
     },
     "metadata": {},
     "output_type": "display_data"
    }
   ],
   "source": [
    "table=pd.crosstab(data.race,data.target)\n",
    "table.div(table.sum(1).astype(float), axis=0).plot(kind='bar', stacked=True)\n",
    "plt.title('Stacked Bar Chart of Race vs Show')\n",
    "plt.xlabel('Race')\n",
    "plt.ylabel('Proportion of Show')"
   ]
  },
  {
   "cell_type": "markdown",
   "metadata": {
    "_uuid": "a539d60f30898690ccc2ec8895d5964978cf04c0"
   },
   "source": [
    "Hawaians appear to have a higher than average no show rate, however...."
   ]
  },
  {
   "cell_type": "code",
   "execution_count": 41,
   "metadata": {
    "_uuid": "b8c348578ce65dcad5f1522a2d63c4c412a49e61"
   },
   "outputs": [
    {
     "data": {
      "text/plain": [
       "white                 2126\n",
       "african american       775\n",
       "more than one race      86\n",
       "other                   41\n",
       "american indian         18\n",
       "asian                   13\n",
       "hawaian                  7\n",
       "unknown                  4\n",
       "Name: race, dtype: int64"
      ]
     },
     "execution_count": 41,
     "metadata": {},
     "output_type": "execute_result"
    }
   ],
   "source": [
    "data.race.value_counts()"
   ]
  },
  {
   "cell_type": "markdown",
   "metadata": {
    "_uuid": "c5f51d20d8890ec86cf0a3d0aa545932d33e01b6"
   },
   "source": [
    "There is a very small amount of hawaians in the overall sample."
   ]
  },
  {
   "cell_type": "code",
   "execution_count": 42,
   "metadata": {
    "_uuid": "b8a229166a3cc7e90cc4aac7e95d73b8f24127f4"
   },
   "outputs": [
    {
     "data": {
      "text/plain": [
       "Text(0,0.5,'Frequency of Show')"
      ]
     },
     "execution_count": 42,
     "metadata": {},
     "output_type": "execute_result"
    },
    {
     "data": {
      "image/png": "[encoded data removed]",
      "text/plain": [
       "<Figure size 432x288 with 1 Axes>"
      ]
     },
     "metadata": {},
     "output_type": "display_data"
    }
   ],
   "source": [
    "pd.crosstab(data.ethnicity,data.target).plot(kind='bar')\n",
    "plt.title('Ethnicity and Show Frequency')\n",
    "plt.xlabel('Ethnicity')\n",
    "plt.ylabel('Frequency of Show')"
   ]
  },
  {
   "cell_type": "markdown",
   "metadata": {
    "_uuid": "8ad6bbd72a47e7fd4560021a30c207bcf9cb51fb"
   },
   "source": [
    "This incidence of anything over than non hispanic is so low that this does not appear to be a good feature to include."
   ]
  },
  {
   "cell_type": "code",
   "execution_count": 43,
   "metadata": {
    "_uuid": "232784ad069fef3382315b08d6dc865310174715"
   },
   "outputs": [
    {
     "data": {
      "text/plain": [
       "Text(0,0.5,'Frequency of Show')"
      ]
     },
     "execution_count": 43,
     "metadata": {},
     "output_type": "execute_result"
    },
    {
     "data": {
      "image/png": "[encoded data removed]",
      "text/plain": [
       "<Figure size 432x288 with 1 Axes>"
      ]
     },
     "metadata": {},
     "output_type": "display_data"
    }
   ],
   "source": [
    "pd.crosstab(data.sex,data.target).plot(kind='bar')\n",
    "plt.title('Show Frequency for Sex')\n",
    "plt.xlabel('Sex')\n",
    "plt.ylabel('Frequency of Show')"
   ]
  },
  {
   "cell_type": "markdown",
   "metadata": {
    "_uuid": "527c95a3b42f2257f9e892a596a798e9037d8f0a"
   },
   "source": [
    "Sex appears to not be a very good predictor of show rate."
   ]
  },
  {
   "cell_type": "code",
   "execution_count": 44,
   "metadata": {
    "_uuid": "ab8a38fa25202312cce4789aa6e9599f57cd7fe2"
   },
   "outputs": [
    {
     "data": {
      "text/plain": [
       "Text(0,0.5,'Frequency')"
      ]
     },
     "execution_count": 44,
     "metadata": {},
     "output_type": "execute_result"
    },
    {
     "data": {
      "image/png": "[encoded data removed]",
      "text/plain": [
       "<Figure size 432x288 with 1 Axes>"
      ]
     },
     "metadata": {},
     "output_type": "display_data"
    }
   ],
   "source": [
    "data.age.hist()\n",
    "plt.title('Histogram of Age')\n",
    "plt.xlabel('Age')\n",
    "plt.ylabel('Frequency')"
   ]
  },
  {
   "cell_type": "markdown",
   "metadata": {
    "_uuid": "23eaa0805df033a660fa893f1b7820e1bdc4ffdb"
   },
   "source": [
    "All participants must be between the ages of 18-65 in order to participate."
   ]
  },
  {
   "cell_type": "code",
   "execution_count": 45,
   "metadata": {
    "_uuid": "7b5217bca07d125b82bd356f38490acfa01a05d9"
   },
   "outputs": [
    {
     "data": {
      "text/plain": [
       "Text(0,0.5,'Age')"
      ]
     },
     "execution_count": 45,
     "metadata": {},
     "output_type": "execute_result"
    },
    {
     "data": {
      "image/png": "[encoded data removed]",
      "text/plain": [
       "<Figure size 432x288 with 2 Axes>"
      ]
     },
     "metadata": {},
     "output_type": "display_data"
    }
   ],
   "source": [
    "data.plot(x='monthly_income',y='cigs_per_day',kind='scatter', c='target', cmap='brg')\n",
    "plt.title('Monthly Income vs Cigs Per Day')\n",
    "plt.xlabel('Monthly Income')\n",
    "plt.ylabel('Age')"
   ]
  },
  {
   "cell_type": "code",
   "execution_count": 46,
   "metadata": {
    "_uuid": "f894d7544ef8d42ae5bda46f0192b3658210d518"
   },
   "outputs": [
    {
     "data": {
      "text/plain": [
       "Text(0,0.5,'Age')"
      ]
     },
     "execution_count": 46,
     "metadata": {},
     "output_type": "execute_result"
    },
    {
     "data": {
      "image/png": "[encoded data removed]",
      "text/plain": [
       "<Figure size 432x288 with 2 Axes>"
      ]
     },
     "metadata": {},
     "output_type": "display_data"
    }
   ],
   "source": [
    "data.plot(x='monthly_income',y='audit_score',kind='scatter', c='target', cmap='brg')\n",
    "plt.title('Monthly Income vs AUDIT Score')\n",
    "plt.xlabel('Monthly Income')\n",
    "plt.ylabel('Age')"
   ]
  },
  {
   "cell_type": "code",
   "execution_count": 47,
   "metadata": {
    "_uuid": "699da807b9de4e53be2dd343da83389ad81bc558"
   },
   "outputs": [
    {
     "data": {
      "text/plain": [
       "Text(0,0.5,'Proportion of Show')"
      ]
     },
     "execution_count": 47,
     "metadata": {},
     "output_type": "execute_result"
    },
    {
     "data": {
      "image/png": "[encoded data removed]",
      "text/plain": [
       "<Figure size 432x288 with 1 Axes>"
      ]
     },
     "metadata": {},
     "output_type": "display_data"
    }
   ],
   "source": [
    "table=pd.crosstab(data.craigslist,data.target)\n",
    "table.div(table.sum(1).astype(float), axis=0).plot(kind='bar', stacked=True)\n",
    "plt.title('Stacked Bar Chart of Recruitment Method vs Show')\n",
    "plt.xlabel('Craigslist')\n",
    "plt.ylabel('Proportion of Show')"
   ]
  },
  {
   "cell_type": "code",
   "execution_count": 48,
   "metadata": {
    "_uuid": "bab0911020bc0bf165de4900dd90e87e71c54db5"
   },
   "outputs": [
    {
     "data": {
      "text/plain": [
       "Text(0,0.5,'Proportion of Show')"
      ]
     },
     "execution_count": 48,
     "metadata": {},
     "output_type": "execute_result"
    },
    {
     "data": {
      "image/png": "[encoded data removed]",
      "text/plain": [
       "<Figure size 432x288 with 1 Axes>"
      ]
     },
     "metadata": {},
     "output_type": "display_data"
    }
   ],
   "source": [
    "table=pd.crosstab(data.flyer,data.target)\n",
    "table.div(table.sum(1).astype(float), axis=0).plot(kind='bar', stacked=True)\n",
    "plt.title('Stacked Bar Chart of Recruitment Method vs Show')\n",
    "plt.xlabel('Flyer')\n",
    "plt.ylabel('Proportion of Show')"
   ]
  },
  {
   "cell_type": "code",
   "execution_count": 49,
   "metadata": {
    "_uuid": "bfcc5d19e1e4e10bf41f6a06becbd31776d44157"
   },
   "outputs": [
    {
     "data": {
      "text/plain": [
       "Text(0,0.5,'Proportion of Show')"
      ]
     },
     "execution_count": 49,
     "metadata": {},
     "output_type": "execute_result"
    },
    {
     "data": {
      "image/png": "[encoded data removed]",
      "text/plain": [
       "<Figure size 432x288 with 1 Axes>"
      ]
     },
     "metadata": {},
     "output_type": "display_data"
    }
   ],
   "source": [
    "table=pd.crosstab(data.referral,data.target)\n",
    "table.div(table.sum(1).astype(float), axis=0).plot(kind='bar', stacked=True)\n",
    "plt.title('Stacked Bar Chart of Recruitment Method vs Show')\n",
    "plt.xlabel('Referral')\n",
    "plt.ylabel('Proportion of Show')"
   ]
  },
  {
   "cell_type": "markdown",
   "metadata": {
    "_uuid": "565b286eef0bcd0c236950d4db51ec3b5ea67e4a"
   },
   "source": [
    "### Create dummy variables"
   ]
  },
  {
   "cell_type": "code",
   "execution_count": 50,
   "metadata": {
    "_uuid": "174f9e06dc1d319b98649005fcf4f2000a0f387b"
   },
   "outputs": [],
   "source": [
    "data_final = pd.get_dummies(data)"
   ]
  },
  {
   "cell_type": "markdown",
   "metadata": {
    "_uuid": "994cfd8c91d45c6cb5753816560c026c3d5e1a54"
   },
   "source": [
    "### Over-sampling using SMOTE"
   ]
  },
  {
   "cell_type": "code",
   "execution_count": 51,
   "metadata": {
    "_uuid": "7cd4055523bca8abc797a25ac86619a444155848"
   },
   "outputs": [],
   "source": [
    "X = data_final.loc[:, data_final.columns != 'target']\n",
    "y = data_final.loc[:, data_final.columns == 'target']"
   ]
  },
  {
   "cell_type": "code",
   "execution_count": 65,
   "metadata": {
    "_uuid": "a875e7014321bd408f061bf459075a38ca3f9251"
   },
   "outputs": [
    {
     "name": "stdout",
     "output_type": "stream",
     "text": [
      "length of oversampled data is  2796\n",
      "Number of no show in oversampled data 1398\n",
      "Number of show 1398\n",
      "Proportion of no show data in oversampled data is  0.5\n",
      "Proportion of show data in oversampled data is  0.5\n"
     ]
    },
    {
     "name": "stderr",
     "output_type": "stream",
     "text": [
      "c:\\python36\\lib\\site-packages\\sklearn\\utils\\validation.py:752: DataConversionWarning: A column-vector y was passed when a 1d array was expected. Please change the shape of y to (n_samples, ), for example using ravel().\n",
      "  y = column_or_1d(y, warn=True)\n"
     ]
    }
   ],
   "source": [
    "from imblearn.over_sampling import SMOTE\n",
    "\n",
    "os = SMOTE(random_state=0)\n",
    "X_train, X_test, y_train, y_test = train_test_split(X, y, test_size=0.3, random_state=0)\n",
    "columns = X_train.columns\n",
    "\n",
    "os_data_X,os_data_y=os.fit_sample(X_train, y_train)\n",
    "os_data_X = pd.DataFrame(data=os_data_X,columns=columns )\n",
    "os_data_y= pd.DataFrame(data=os_data_y,columns=['y'])\n",
    "# we can Check the numbers of our data\n",
    "print(\"length of oversampled data is \",len(os_data_X))\n",
    "print(\"Number of no show in oversampled data\",len(os_data_y[os_data_y['y']==0]))\n",
    "print(\"Number of show\",len(os_data_y[os_data_y['y']==1]))\n",
    "print(\"Proportion of no show data in oversampled data is \",len(os_data_y[os_data_y['y']==0])/len(os_data_X))\n",
    "print(\"Proportion of show data in oversampled data is \",len(os_data_y[os_data_y['y']==1])/len(os_data_X))"
   ]
  },
  {
   "cell_type": "markdown",
   "metadata": {
    "_uuid": "50e0f17dbca41eda2740d30d7aae5f0396ee615f"
   },
   "source": [
    "### Implementing the model"
   ]
  },
  {
   "cell_type": "markdown",
   "metadata": {
    "_uuid": "6a32cc70b7fb1466ca7472443b65392d81cfc898"
   },
   "source": [
    "### Logistic Regression Model Fitting"
   ]
  },
  {
   "cell_type": "code",
   "execution_count": 60,
   "metadata": {
    "_uuid": "8b0781b2dbfc0eb4ce54ed097ea2c2fc5ad0269e"
   },
   "outputs": [
    {
     "name": "stderr",
     "output_type": "stream",
     "text": [
      "c:\\python36\\lib\\site-packages\\sklearn\\linear_model\\logistic.py:432: FutureWarning: Default solver will be changed to 'lbfgs' in 0.22. Specify a solver to silence this warning.\n",
      "  FutureWarning)\n",
      "c:\\python36\\lib\\site-packages\\sklearn\\utils\\validation.py:752: DataConversionWarning: A column-vector y was passed when a 1d array was expected. Please change the shape of y to (n_samples, ), for example using ravel().\n",
      "  y = column_or_1d(y, warn=True)\n"
     ]
    },
    {
     "data": {
      "text/plain": [
       "LogisticRegression(C=1.0, class_weight=None, dual=False, fit_intercept=True,\n",
       "          intercept_scaling=1, max_iter=100, multi_class='warn',\n",
       "          n_jobs=None, penalty='l2', random_state=None, solver='warn',\n",
       "          tol=0.0001, verbose=0, warm_start=False)"
      ]
     },
     "execution_count": 60,
     "metadata": {},
     "output_type": "execute_result"
    }
   ],
   "source": [
    "from sklearn.linear_model import LogisticRegression\n",
    "from sklearn import metrics\n",
    "\n",
    "X_train, X_test, y_train, y_test = train_test_split(X, y, test_size=0.3, random_state=0)\n",
    "logreg = LogisticRegression()\n",
    "logreg.fit(X_train, y_train)"
   ]
  },
  {
   "cell_type": "code",
   "execution_count": 61,
   "metadata": {
    "_uuid": "6dc1ce76435753b91deddd1490c552f9267ae305"
   },
   "outputs": [
    {
     "name": "stdout",
     "output_type": "stream",
     "text": [
      "Accuracy of logistic regression classifier on test set: 0.73\n"
     ]
    }
   ],
   "source": [
    "y_pred = logreg.predict(X_test)\n",
    "print('Accuracy of logistic regression classifier on test set: {:.2f}'.format(logreg.score(X_test, y_test)))"
   ]
  },
  {
   "cell_type": "markdown",
   "metadata": {
    "_uuid": "11970ed0fa7ad86d588c0a9b80f9338d232ea616"
   },
   "source": [
    "### Confusion Matrix"
   ]
  },
  {
   "cell_type": "code",
   "execution_count": 62,
   "metadata": {
    "_uuid": "394750c17c4d2dc7b9abeae2c7e2c0769b3b2d68"
   },
   "outputs": [
    {
     "name": "stdout",
     "output_type": "stream",
     "text": [
      "[[100 210]\n",
      " [ 46 577]]\n"
     ]
    },
    {
     "data": {
      "image/png": "[encoded data removed]",
      "text/plain": [
       "<Figure size 432x288 with 1 Axes>"
      ]
     },
     "metadata": {},
     "output_type": "display_data"
    }
   ],
   "source": [
    "from sklearn.metrics import confusion_matrix\n",
    "confusion_matrix = confusion_matrix(y_test, y_pred)\n",
    "print(confusion_matrix)\n",
    "\n",
    "from sklearn.metrics import confusion_matrix\n",
    "mat = confusion_matrix(y_test, y_pred)\n",
    "sns.heatmap(mat.T, square=True, annot=True, fmt='d', cbar=False)\n",
    "plt.xlabel('true label')\n",
    "plt.ylabel('predicted label');"
   ]
  },
  {
   "cell_type": "code",
   "execution_count": 63,
   "metadata": {
    "_uuid": "0ae74241b3eab0e34d8a66a5a54b7ba993baaa6f"
   },
   "outputs": [
    {
     "name": "stdout",
     "output_type": "stream",
     "text": [
      "              precision    recall  f1-score   support\n",
      "\n",
      "           0       0.68      0.32      0.44       310\n",
      "           1       0.73      0.93      0.82       623\n",
      "\n",
      "   micro avg       0.73      0.73      0.73       933\n",
      "   macro avg       0.71      0.62      0.63       933\n",
      "weighted avg       0.72      0.73      0.69       933\n",
      "\n"
     ]
    }
   ],
   "source": [
    "from sklearn.metrics import classification_report\n",
    "print(classification_report(y_test, y_pred))"
   ]
  },
  {
   "cell_type": "markdown",
   "metadata": {
    "_uuid": "819ed10bbb4c0cd31f2c20d4a8eb12c18c08a017"
   },
   "source": [
    "#### Interpretation:\n",
    "\n",
    "Of the entire test set, 73% of the predicted shows were actually shows. Of the entire test set, 72% were correctly guessed."
   ]
  },
  {
   "cell_type": "code",
   "execution_count": 64,
   "metadata": {
    "_uuid": "a87341f31540cc3b801bf4bdb6cae571febfa6fc"
   },
   "outputs": [
    {
     "data": {
      "image/png": "[encoded data removed]",
      "text/plain": [
       "<Figure size 432x288 with 1 Axes>"
      ]
     },
     "metadata": {},
     "output_type": "display_data"
    }
   ],
   "source": [
    "from sklearn.metrics import roc_auc_score\n",
    "from sklearn.metrics import roc_curve\n",
    "logit_roc_auc = roc_auc_score(y_test, logreg.predict(X_test))\n",
    "fpr, tpr, thresholds = roc_curve(y_test, logreg.predict_proba(X_test)[:,1])\n",
    "plt.figure()\n",
    "plt.plot(fpr, tpr, label='Logistic Regression (area = %0.2f)' % logit_roc_auc)\n",
    "plt.plot([0, 1], [0, 1],'r--')\n",
    "plt.xlim([0.0, 1.0])\n",
    "plt.ylim([0.0, 1.05])\n",
    "plt.xlabel('False Positive Rate')\n",
    "plt.ylabel('True Positive Rate')\n",
    "plt.title('Receiver operating characteristic')\n",
    "plt.legend(loc=\"lower right\")\n",
    "plt.savefig('Log_ROC')\n",
    "plt.show()"
   ]
  }
 ],
 "metadata": {
  "kernelspec": {
   "display_name": "Python 3",
   "language": "python",
   "name": "python3"
  },
  "language_info": {
   "codemirror_mode": {
    "name": "ipython",
    "version": 3
   },
   "file_extension": ".py",
   "mimetype": "text/x-python",
   "name": "python",
   "nbconvert_exporter": "python",
   "pygments_lexer": "ipython3",
   "version": "3.6.4"
  }
 },
 "nbformat": 4,
 "nbformat_minor": 2
}
